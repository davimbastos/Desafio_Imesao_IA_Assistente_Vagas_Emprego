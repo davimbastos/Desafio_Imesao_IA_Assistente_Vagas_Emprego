{
  "nbformat": 4,
  "nbformat_minor": 0,
  "metadata": {
    "colab": {
      "provenance": [],
      "authorship_tag": "ABX9TyNR7yGKjdsRVaNWF3GeFBy4",
      "include_colab_link": true
    },
    "kernelspec": {
      "name": "python3",
      "display_name": "Python 3"
    },
    "language_info": {
      "name": "python"
    }
  },
  "cells": [
    {
      "cell_type": "markdown",
      "metadata": {
        "id": "view-in-github",
        "colab_type": "text"
      },
      "source": [
        "<a href=\"https://colab.research.google.com/github/davimbastos/Desafio_Imesao_IA_Assistente_Vagas_Emprego/blob/main/Desafio_Imersao_IA_Alura_Google.ipynb\" target=\"_parent\"><img src=\"https://colab.research.google.com/assets/colab-badge.svg\" alt=\"Open In Colab\"/></a>"
      ]
    },
    {
      "cell_type": "code",
      "execution_count": null,
      "metadata": {
        "id": "9yTtbfTmGJS1"
      },
      "outputs": [],
      "source": [
        "# Instala a biblioteca google-generativeai (ou atualiza para a versão mais recente)\n",
        "!pip install -q -U google-generativeai"
      ]
    },
    {
      "cell_type": "code",
      "source": [
        "# Importa a biblioteca NumPy para operações numéricas.\n",
        "import numpy as np\n",
        "\n",
        "# Importa a biblioteca Pandas para manipulação de dados.\n",
        "import pandas as pd\n",
        "\n",
        "# Importa a biblioteca requests para fazer requisições HTTP.\n",
        "import requests\n",
        "\n",
        "# Importa a biblioteca json para lidar com dados JSON.\n",
        "import json\n",
        "\n",
        "# Importa a biblioteca re para usar expressões regulares.\n",
        "import re\n",
        "\n",
        "# Importa a biblioteca google-generativeai para usar a API do Google Generative AI.\n",
        "import google.generativeai as genai\n",
        "\n",
        "# Importa a função userdata do google.colab para acessar dados do usuário.\n",
        "from google.colab import userdata\n",
        "\n",
        "# Obtém a chave secreta do usuário armazenada no Colab.\n",
        "my_secret_key = userdata.get('secret_key')\n",
        "\n",
        "# Configura a API do Google Generative AI com a chave secreta do usuário.\n",
        "genai.configure(api_key = my_secret_key)"
      ],
      "metadata": {
        "id": "oZalKRnlGPyV"
      },
      "execution_count": null,
      "outputs": []
    },
    {
      "cell_type": "code",
      "source": [
        "# Define as configurações de geração de texto.\n",
        "generation_config = {\n",
        "    \"temperature\": 1,  # Controla a aleatoriedade da saída (1 é mais aleatório).\n",
        "    \"top_p\": 0.95,  # Limita a amostragem de tokens com base na probabilidade acumulada.\n",
        "    \"top_k\": 0,  # Limita a amostragem aos k tokens mais prováveis.\n",
        "    \"max_output_tokens\": 8192,  # Define o número máximo de tokens na saída gerada.\n",
        "}\n",
        "\n",
        "# Define as configurações de segurança para o conteúdo gerado.\n",
        "safety_settings = [\n",
        "    {\n",
        "        \"category\": \"HARM_CATEGORY_HARASSMENT\",  # Categoria: Assédio\n",
        "        \"threshold\": \"BLOCK_MEDIUM_AND_ABOVE\" # Bloqueia conteúdo com nível médio ou alto de assédio.\n",
        "    },\n",
        "    {\n",
        "        \"category\": \"HARM_CATEGORY_HATE_SPEECH\", # Categoria: Discurso de ódio\n",
        "        \"threshold\": \"BLOCK_MEDIUM_AND_ABOVE\" # Bloqueia conteúdo com nível médio ou alto de discurso de ódio.\n",
        "    },\n",
        "    {\n",
        "        \"category\": \"HARM_CATEGORY_SEXUALLY_EXPLICIT\", # Categoria: Conteúdo sexualmente explícito\n",
        "        \"threshold\": \"BLOCK_MEDIUM_AND_ABOVE\" # Bloqueia conteúdo com nível médio ou alto de conteúdo sexualmente explícito.\n",
        "    },\n",
        "    {\n",
        "        \"category\": \"HARM_CATEGORY_DANGEROUS_CONTENT\", # Categoria: Conteúdo perigoso\n",
        "        \"threshold\": \"BLOCK_MEDIUM_AND_ABOVE\" # Bloqueia conteúdo com nível médio ou alto de conteúdo perigoso.\n",
        "    },\n",
        "]\n",
        "\n",
        "# Cria um modelo generativo usando o modelo 'gemini-1.0-pro' com as configurações definidas.\n",
        "model_content = genai.GenerativeModel(\n",
        "    model_name='gemini-1.0-pro',\n",
        "    generation_config=generation_config,\n",
        "    safety_settings=safety_settings\n",
        ")"
      ],
      "metadata": {
        "id": "-ZIErmRPGrX-"
      },
      "execution_count": null,
      "outputs": []
    },
    {
      "cell_type": "code",
      "source": [
        "# Define a função para ler dados de uma API.\n",
        "def ler_api(url):\n",
        "    \"\"\"\n",
        "    Faz uma requisição GET para a URL especificada e retorna os dados em formato JSON.\n",
        "\n",
        "    Args:\n",
        "        url: A URL da API.\n",
        "\n",
        "    Returns:\n",
        "        Um dicionário contendo os dados da API em formato JSON, ou None se houver um erro.\n",
        "    \"\"\"\n",
        "    try:\n",
        "        # Faz a requisição GET para a URL.\n",
        "        resposta = requests.get(url)\n",
        "\n",
        "        # Verifica se a requisição foi bem-sucedida.\n",
        "        resposta.raise_for_status()\n",
        "\n",
        "        # Retorna os dados em formato JSON.\n",
        "        return resposta.json()\n",
        "    except requests.exceptions.RequestException as erro:\n",
        "        # Imprime uma mensagem de erro se houver um problema com a requisição.\n",
        "        print(f\"Erro ao buscar dados da API: {erro}\")\n",
        "\n",
        "        # Retorna None se houver um erro.\n",
        "        return None\n",
        "\n",
        "# Bloco de código principal que é executado quando o script é executado diretamente.\n",
        "if __name__ == \"__main__\":\n",
        "    # Define a URL da API da Alura.\n",
        "    url_api = \"https://alura.com.br/api/cursos\"\n",
        "\n",
        "    # Chama a função ler_api para obter os dados da API.\n",
        "    dados_cursos = ler_api(url_api)\n",
        "\n",
        "    # Verifica se a função ler_api retornou dados.\n",
        "    if dados_cursos:\n",
        "        # Cria uma lista vazia para armazenar os dados dos cursos.\n",
        "        tabela_cursos = []\n",
        "\n",
        "        # Itera sobre cada curso nos dados obtidos da API.\n",
        "        for curso in dados_cursos:\n",
        "            # Adiciona um dicionário contendo o tempo estimado e o nome do curso à lista.\n",
        "            tabela_cursos.append({\n",
        "                \"tempo_estimado\": str(curso.get(\"tempo_estimado\")), # Converte o tempo estimado para string.\n",
        "                \"nome\": curso.get(\"nome\"),  # Obtém o nome do curso.\n",
        "            })\n",
        "\n",
        "        # Cria um DataFrame do Pandas a partir da lista de cursos.\n",
        "        df = pd.DataFrame(tabela_cursos)\n",
        "\n",
        "        # Define os nomes das colunas do DataFrame.\n",
        "        df.columns = [\"Duracao\", \"Curso\"]\n",
        "\n",
        "        # Exibe o DataFrame.\n",
        "        #df"
      ],
      "metadata": {
        "id": "lMdkPbtUHHNH"
      },
      "execution_count": null,
      "outputs": []
    },
    {
      "cell_type": "code",
      "source": [
        "# Define o nome do modelo de embedding a ser usado.\n",
        "model = \"models/embedding-001\"\n",
        "\n",
        "# Define a função para gerar embeddings para um curso.\n",
        "def embed_fn(duracao, curso):\n",
        "  \"\"\"\n",
        "  Gera um embedding para o curso usando o modelo especificado.\n",
        "\n",
        "  Args:\n",
        "      duracao: A duração do curso.\n",
        "      curso: O nome do curso.\n",
        "\n",
        "  Returns:\n",
        "      O embedding do curso como um array NumPy.\n",
        "  \"\"\"\n",
        "  return genai.embed_content(\n",
        "      model=model,  # Usa o modelo de embedding definido anteriormente.\n",
        "      content=curso,  # Define o conteúdo do curso como entrada.\n",
        "      title=duracao,  # Define a duração do curso como título.\n",
        "      task_type=\"RETRIEVAL_DOCUMENT\"  # Define o tipo de tarefa como recuperação de documentos.\n",
        "  )[\"embedding\"]  # Retorna o embedding do resultado."
      ],
      "metadata": {
        "id": "pm14xPX_ITcZ"
      },
      "execution_count": null,
      "outputs": []
    },
    {
      "cell_type": "code",
      "source": [
        "# Aplica a função embed_fn a cada linha do DataFrame para gerar embeddings.\n",
        "df[\"Embeddings\"] = df.apply(\n",
        "    lambda row: embed_fn(row[\"Duracao\"], row[\"Curso\"]),  # Aplica a função embed_fn.\n",
        "    axis=1  # Aplica a função ao longo das colunas (para cada linha).\n",
        ")\n",
        "\n",
        "# Exibe o DataFrame com a nova coluna \"Embeddings\".\n",
        "#df"
      ],
      "metadata": {
        "id": "KY4K5WJcIjfj"
      },
      "execution_count": null,
      "outputs": []
    },
    {
      "cell_type": "code",
      "source": [
        "# Define a função para gerar embeddings de uma consulta e buscar os cursos mais relevantes.\n",
        "def gerar_e_buscar_consulta(consulta, base, model):\n",
        "  \"\"\"\n",
        "  Gera um embedding para a consulta, calcula a similaridade com os cursos na base\n",
        "  e retorna os 5 cursos mais relevantes.\n",
        "\n",
        "  Args:\n",
        "      consulta: A consulta do usuário.\n",
        "      base: O DataFrame contendo os cursos e seus embeddings.\n",
        "      model: O nome do modelo de embedding a ser usado.\n",
        "\n",
        "  Returns:\n",
        "      Uma lista contendo os nomes dos 5 cursos mais relevantes.\n",
        "  \"\"\"\n",
        "  # Gera um embedding para a consulta do usuário.\n",
        "  embedding_da_consulta = genai.embed_content(\n",
        "      model=model,  # Usa o modelo de embedding especificado.\n",
        "      content=consulta,  # Define a consulta como entrada.\n",
        "      task_type=\"RETRIEVAL_QUERY\"  # Define o tipo de tarefa como consulta de recuperação.\n",
        "  )[\"embedding\"]  # Retorna o embedding da consulta.\n",
        "\n",
        "  # Calcula o produto escalar entre o embedding da consulta e os embeddings dos cursos.\n",
        "  produtos_escalares = np.dot(\n",
        "      np.stack(base[\"Embeddings\"]),  # Empilha os embeddings dos cursos em um array.\n",
        "      embedding_da_consulta  # Embedding da consulta.\n",
        "  )\n",
        "\n",
        "  # Obtém os índices dos 5 cursos com maior similaridade (produto escalar).\n",
        "  indices_top_5 = np.argpartition(produtos_escalares, -5)[-5:]\n",
        "\n",
        "  # Retorna os nomes dos 5 cursos mais relevantes.\n",
        "  return base.iloc[indices_top_5][\"Curso\"].tolist()"
      ],
      "metadata": {
        "id": "SGxugfNgI5vv"
      },
      "execution_count": null,
      "outputs": []
    },
    {
      "cell_type": "code",
      "source": [
        "# Solicita ao usuário que descreva a vaga desejada.\n",
        "consulta = input('Descreva a vaga que você gostaria de se candidatar:\\n')\n",
        "\n",
        "# Gera conteúdo usando o modelo de linguagem, instruindo-o a criar perguntas de entrevista.\n",
        "response_model = model_content.generate_content(\n",
        "    'Aja como um especialista de recrutamento. Analise a descrição da vaga e elabore cinco questões para testar os meus conhecimentos para essa vaga. Retorne as questões em um formato JSON com a seguinte estrutura: [{\"pergunta\": \"Pergunta 1\", \"resposta\": \"\"}, {\"pergunta\": \"Pergunta 2\", \"resposta\": \"\"}, {\"pergunta\": \"Pergunta 3\", \"resposta\": \"\"}, {\"pergunta\": \"Pergunta 4\", \"resposta\": \"\"}, {\"pergunta\": \"Pergunta 5\", \"resposta\": \"\"}] Descrição da vaga:' + consulta\n",
        ")\n",
        "\n",
        "# Remove caracteres extras e espaços em branco da resposta do modelo.\n",
        "json_string = response_model.text.strip(\"```json\\n\").strip()\n",
        "\n",
        "# Converte a string JSON em um objeto Python.\n",
        "perguntas_json = json.loads(json_string)\n",
        "\n",
        "# Itera sobre cada pergunta no objeto JSON.\n",
        "for pergunta_dict in perguntas_json:\n",
        "    # Exibe a pergunta ao usuário.\n",
        "    pergunta = pergunta_dict['pergunta']\n",
        "    print(pergunta)\n",
        "\n",
        "    # Obtém a resposta do usuário.\n",
        "    resposta = input(\"Sua resposta: \")\n",
        "\n",
        "    # Armazena a resposta do usuário no dicionário da pergunta.\n",
        "    pergunta_dict['resposta'] = resposta\n",
        "\n",
        "# Imprime o JSON completo com as perguntas e respostas formatadas.\n",
        "print(json.dumps(perguntas_json, indent=4))"
      ],
      "metadata": {
        "id": "5rUyt4VWJrYD"
      },
      "execution_count": null,
      "outputs": []
    },
    {
      "cell_type": "code",
      "source": [
        "# Converte o objeto JSON da entrevista para uma string formatada.\n",
        "entrevista = json.dumps(perguntas_json, indent=4)\n",
        "\n",
        "# Solicita ao modelo de linguagem que analise a entrevista e gere uma avaliação do candidato.\n",
        "analise_entrevista = model_content.generate_content(\n",
        "    f'Analise a descrição da vaga {consulta} e avalie o desempenho do candidato com base nas perguntas e resposta contidas em {entrevista}. Defina pontos fortes e fracos do candidato em relação à vaga de emprego.'\n",
        ")\n",
        "\n",
        "# Armazena o texto da avaliação na variável \"resultado\".\n",
        "resultado = analise_entrevista.text"
      ],
      "metadata": {
        "id": "YvzsJ3gWKBtA"
      },
      "execution_count": null,
      "outputs": []
    },
    {
      "cell_type": "code",
      "source": [
        "# Busca cursos relevantes com base na avaliação da entrevista.\n",
        "recomendacao = gerar_e_buscar_consulta(resultado, df, model)\n",
        "\n",
        "# Gera um feedback construtivo e um plano de estudo com base nos cursos recomendados.\n",
        "response_model = model_content.generate_content(\n",
        "    f'Escreva um feedback construtivo para o candidato e crie um plano de estudo com base nos seguintes cursos {recomendacao}'\n",
        ")\n",
        "\n",
        "# Imprime o feedback e o plano de estudo gerados pelo modelo de linguagem.\n",
        "print(response_model.text)"
      ],
      "metadata": {
        "id": "RFt6RBr4Koid"
      },
      "execution_count": null,
      "outputs": []
    }
  ]
}